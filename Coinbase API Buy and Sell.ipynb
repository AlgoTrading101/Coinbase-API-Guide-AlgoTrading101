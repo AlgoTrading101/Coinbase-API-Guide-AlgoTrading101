{
 "cells": [
  {
   "cell_type": "code",
   "execution_count": 1,
   "metadata": {},
   "outputs": [],
   "source": [
    "from coinbase.wallet.client import Client\n"
   ]
  },
  {
   "cell_type": "code",
   "execution_count": 2,
   "metadata": {},
   "outputs": [],
   "source": [
    "coinbase_API_Key = \"AGD9NWan8s73aKkK\"\n",
    "coinbase_API_Secret = \"TZxiwi46hziLMztyP8BmGHEXANbdUEHm\"\n",
    "\n",
    "Client = Client(coinbase_API_Key, coinbase_API_Secret)\n",
    "payment_methods = Client.get_payment_methods()"
   ]
  },
  {
   "cell_type": "code",
   "execution_count": 3,
   "metadata": {
    "scrolled": false
   },
   "outputs": [
    {
     "data": {
      "text/plain": [
       "<APIObject @ 0x212b7b89bd0> {\n",
       "  \"amount\": \"10947.15\",\n",
       "  \"base\": \"BTC\",\n",
       "  \"currency\": \"EUR\"\n",
       "}"
      ]
     },
     "execution_count": 3,
     "metadata": {},
     "output_type": "execute_result"
    }
   ],
   "source": [
    "Client.get_sell_price(currency_pair = 'BTC-EUR')"
   ]
  },
  {
   "cell_type": "code",
   "execution_count": 4,
   "metadata": {},
   "outputs": [
    {
     "data": {
      "text/plain": [
       "<APIObject @ 0x212b804f090> {\n",
       "  \"amount\": \"11061.45\",\n",
       "  \"base\": \"BTC\",\n",
       "  \"currency\": \"EUR\"\n",
       "}"
      ]
     },
     "execution_count": 4,
     "metadata": {},
     "output_type": "execute_result"
    }
   ],
   "source": [
    "Client.get_buy_price(currency_pair='BTC-EUR')"
   ]
  },
  {
   "cell_type": "code",
   "execution_count": 5,
   "metadata": {},
   "outputs": [],
   "source": [
    "account = Client.get_primary_account()\n",
    "payment_method = Client.get_payment_methods()[0]\n",
    "\n",
    "buy_price_threshold  = 300\n",
    "sell_price_threshold = 450\n",
    "\n",
    "buy_price  = Client.get_buy_price(currency='EUR')\n",
    "sell_price = Client.get_sell_price(currency='EUR')"
   ]
  },
  {
   "cell_type": "code",
   "execution_count": null,
   "metadata": {},
   "outputs": [],
   "source": [
    "if float(buy_price.amount):\n",
    "  buy = account.buy(amount='1',\n",
    "                    currency=\"BTC\",\n",
    "                    payment_method=payment_method.id)"
   ]
  },
  {
   "cell_type": "code",
   "execution_count": null,
   "metadata": {},
   "outputs": [],
   "source": [
    "if float(sell_price.amount):\n",
    "  sell = account.sell(amount='1',\n",
    "                      currency=\"BTC\",\n",
    "                      payment_method=payment_method.id)"
   ]
  }
 ],
 "metadata": {
  "kernelspec": {
   "display_name": "Python 3",
   "language": "python",
   "name": "python3"
  },
  "language_info": {
   "codemirror_mode": {
    "name": "ipython",
    "version": 3
   },
   "file_extension": ".py",
   "mimetype": "text/x-python",
   "name": "python",
   "nbconvert_exporter": "python",
   "pygments_lexer": "ipython3",
   "version": "3.8.3"
  }
 },
 "nbformat": 4,
 "nbformat_minor": 4
}

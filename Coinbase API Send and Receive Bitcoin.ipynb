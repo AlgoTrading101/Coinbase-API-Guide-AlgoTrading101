{
 "cells": [
  {
   "cell_type": "code",
   "execution_count": 4,
   "metadata": {},
   "outputs": [],
   "source": [
    "from coinbase.wallet.client import Client\n",
    "\n",
    "coinbase_API_Key= \"AGD9NWan8s73aKkK\"\n",
    "coinbase_API_Secret= \"TZxiwi46hziLMztyP8BmGHEXANbdUEHm\"\n",
    "\n",
    "Client = Client(coinbase_API_Key, coinbase_API_Secret)"
   ]
  },
  {
   "cell_type": "code",
   "execution_count": 6,
   "metadata": {},
   "outputs": [],
   "source": [
    "primary_account = Client.get_primary_account()\n",
    "address = primary_account.create_address()"
   ]
  },
  {
   "cell_type": "code",
   "execution_count": 8,
   "metadata": {},
   "outputs": [
    {
     "data": {
      "text/plain": [
       "<Address @ 0x24c7725e0e0> {\n",
       "  \"address\": \"3EPL9VbCjbn95fu2PejPmG8rigsQnaF7ha\",\n",
       "  \"address_info\": {\n",
       "    \"address\": \"3EPL9VbCjbn95fu2PejPmG8rigsQnaF7ha\"\n",
       "  },\n",
       "  \"callback_url\": null,\n",
       "  \"created_at\": \"2020-10-25T17:30:04Z\",\n",
       "  \"deposit_uri\": \"bitcoin:3EPL9VbCjbn95fu2PejPmG8rigsQnaF7ha\",\n",
       "  \"id\": \"b0ec0e2f-7dcd-5d84-83bd-4cb92ca3c2be\",\n",
       "  \"name\": null,\n",
       "  \"network\": \"bitcoin\",\n",
       "  \"resource\": \"address\",\n",
       "  \"resource_path\": \"/v2/accounts/446e7964-e8c3-55b5-988e-09f878a84484/addresses/b0ec0e2f-7dcd-5d84-83bd-4cb92ca3c2be\",\n",
       "  \"updated_at\": \"2020-10-25T17:30:04Z\",\n",
       "  \"uri_scheme\": \"bitcoin\",\n",
       "  \"warnings\": [\n",
       "    {\n",
       "      \"details\": \"If you send crypto to the wrong address (eg, Bitcoin to a Bitcoin Cash address), your crypto will be lost.\",\n",
       "      \"image_url\": \"https://www.coinbase.com/assets/addresses/global-receive-warning-a3d91807e61c717e5a38d270965003dcc025ca8a3cea40ec3d7835b7c86087fa.png\",\n",
       "      \"options\": [\n",
       "        {\n",
       "          \"id\": \"dismiss\",\n",
       "          \"style\": \"primary\",\n",
       "          \"text\": \"I understand\"\n",
       "        }\n",
       "      ],\n",
       "      \"title\": \"Be sure to select the right cryptocurrency\",\n",
       "      \"type\": \"correct_address_warning\"\n",
       "    }\n",
       "  ]\n",
       "}"
      ]
     },
     "execution_count": 8,
     "metadata": {},
     "output_type": "execute_result"
    }
   ],
   "source": [
    "address"
   ]
  },
  {
   "cell_type": "code",
   "execution_count": null,
   "metadata": {},
   "outputs": [],
   "source": [
    "primary_account = Client.get_primary_account()\n",
    "\n",
    "send = primary_account.send_money(to=address,\n",
    "                                amount='0.01',\n",
    "                                currency='BTC')"
   ]
  },
  {
   "cell_type": "code",
   "execution_count": null,
   "metadata": {},
   "outputs": [],
   "source": [
    "primary_account = Client.get_primary_account()\n",
    "\n",
    "request = primary_account.request_money(to='random@gmail.com',\n",
    "                                   amount='0.1',\n",
    "                                   currency='BTC')"
   ]
  }
 ],
 "metadata": {
  "kernelspec": {
   "display_name": "Python 3",
   "language": "python",
   "name": "python3"
  },
  "language_info": {
   "codemirror_mode": {
    "name": "ipython",
    "version": 3
   },
   "file_extension": ".py",
   "mimetype": "text/x-python",
   "name": "python",
   "nbconvert_exporter": "python",
   "pygments_lexer": "ipython3",
   "version": "3.8.3"
  }
 },
 "nbformat": 4,
 "nbformat_minor": 4
}

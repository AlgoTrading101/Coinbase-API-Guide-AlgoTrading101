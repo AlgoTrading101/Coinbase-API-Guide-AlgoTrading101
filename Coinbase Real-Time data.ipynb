{
 "cells": [
  {
   "cell_type": "code",
   "execution_count": 9,
   "metadata": {},
   "outputs": [],
   "source": [
    "from coinbase.wallet.client import Client\n",
    "\n",
    "coinbase_API_Key= \"AGD9NWan8s73aKkK\"\n",
    "coinbase_API_Secret= \"TZxiwi46hziLMztyP8BmGHEXANbdUEHm\""
   ]
  },
  {
   "cell_type": "code",
   "execution_count": 8,
   "metadata": {},
   "outputs": [
    {
     "name": "stdout",
     "output_type": "stream",
     "text": [
      "Current bitcoin price in EUR: 12955.95\n"
     ]
    }
   ],
   "source": [
    "client = Client(coinbase_API_Key, coinbase_API_Secret)\n",
    "\n",
    "currency_code = 'EUR'  \n",
    "\n",
    "# Start the request\n",
    "price = client.get_spot_price(currency=currency_code)\n",
    "\n",
    "print ('Current bitcoin price in %s: %s' % (currency_code, price.amount))"
   ]
  }
 ],
 "metadata": {
  "kernelspec": {
   "display_name": "Python 3",
   "language": "python",
   "name": "python3"
  },
  "language_info": {
   "codemirror_mode": {
    "name": "ipython",
    "version": 3
   },
   "file_extension": ".py",
   "mimetype": "text/x-python",
   "name": "python",
   "nbconvert_exporter": "python",
   "pygments_lexer": "ipython3",
   "version": "3.8.3"
  }
 },
 "nbformat": 4,
 "nbformat_minor": 4
}
